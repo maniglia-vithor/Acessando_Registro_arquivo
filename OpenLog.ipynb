{
  "nbformat": 4,
  "nbformat_minor": 0,
  "metadata": {
    "colab": {
      "provenance": [],
      "authorship_tag": "ABX9TyN0ZqrA69/o86l9ygKy4Z7b",
      "include_colab_link": true
    },
    "kernelspec": {
      "name": "python3",
      "display_name": "Python 3"
    },
    "language_info": {
      "name": "python"
    }
  },
  "cells": [
    {
      "cell_type": "markdown",
      "metadata": {
        "id": "view-in-github",
        "colab_type": "text"
      },
      "source": [
        "<a href=\"https://colab.research.google.com/github/maniglia-vithor/Acessando_Registro_arquivo/blob/main/OpenLog.ipynb\" target=\"_parent\"><img src=\"https://colab.research.google.com/assets/colab-badge.svg\" alt=\"Open In Colab\"/></a>"
      ]
    },
    {
      "cell_type": "code",
      "execution_count": null,
      "metadata": {
        "id": "b9CHFu5yUlp2",
        "colab": {
          "base_uri": "https://localhost:8080/"
        },
        "outputId": "fb60514e-f39b-4893-e79f-c365a140c42f"
      },
      "outputs": [
        {
          "output_type": "stream",
          "name": "stdout",
          "text": [
            "Registro realizado\n"
          ]
        },
        {
          "output_type": "execute_result",
          "data": {
            "text/plain": [
              "<_io.TextIOWrapper name='/content/drive/MyDrive/Atividade/Arquivo.txt' mode='r' encoding='utf-8'>"
            ]
          },
          "metadata": {},
          "execution_count": 103
        }
      ],
      "source": [
        "import time\n",
        "import os\n",
        "\n",
        "def openLog(Arquivo, modo = 'r'):\n",
        "  arqEntrada = open(Arquivo, 'r')\n",
        "\n",
        " # obtém hora atual\n",
        "  now = time.localtime()\n",
        "  nowFormat = time.strftime('%A %b/%d/%y %I:%M %p', now)\n",
        "\n",
        "  # abre arquivo log.txt no modo de acréscimo e acrescenta log\n",
        "  pasta = os.path.dirname(Arquivo)\n",
        "  caminho_log = os.path.join(pasta, 'log.txt')\n",
        "  with open(caminho_log, 'a') as arqSaida:\n",
        "        log = '{}: Arquivo {} aberto.\\n'\n",
        "        arqSaida.write(log.format(nowFormat, Arquivo, modo))\n",
        "\n",
        "  print('Registro realizado')\n",
        "\n",
        "  return arqEntrada\n",
        "\n",
        "openLog ('/content/drive/MyDrive/Atividade/Arquivo.txt')"
      ]
    },
    {
      "cell_type": "code",
      "source": [
        "openLog('/content/drive/MyDrive/Atividade/Arquivo.txt')"
      ],
      "metadata": {
        "colab": {
          "base_uri": "https://localhost:8080/"
        },
        "id": "KFoXUyAaqfFL",
        "outputId": "44c52775-2bb6-4271-f6d1-01c4ed559963"
      },
      "execution_count": null,
      "outputs": [
        {
          "output_type": "stream",
          "name": "stdout",
          "text": [
            "Registro realizado\n"
          ]
        },
        {
          "output_type": "execute_result",
          "data": {
            "text/plain": [
              "<_io.TextIOWrapper name='/content/drive/MyDrive/Atividade/Arquivo.txt' mode='r' encoding='utf-8'>"
            ]
          },
          "metadata": {},
          "execution_count": 104
        }
      ]
    }
  ]
}